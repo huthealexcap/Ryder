{
 "cells": [
  {
   "cell_type": "markdown",
   "id": "08c20d3b",
   "metadata": {},
   "source": [
    "# Ryder Classification Models\n",
    "\n",
    "using the predictive maintainance dataset from kaggle:\n",
    "\n",
    "https://www.kaggle.com/datasets/shivamb/machine-predictive-maintenance-classification\n",
    "https://archive.ics.uci.edu/ml/datasets/AI4I+2020+Predictive+Maintenance+Dataset"
   ]
  },
  {
   "cell_type": "code",
   "execution_count": 1,
   "id": "51a769cc",
   "metadata": {},
   "outputs": [],
   "source": [
    "import numpy as np\n",
    "import pandas as pd\n",
    "from sklearn.model_selection import train_test_split\n",
    "from sklearn.preprocessing import StandardScaler, MinMaxScaler\n",
    "from sklearn.neighbors import KNeighborsClassifier\n",
    "from sklearn.svm import SVC\n",
    "from sklearn.ensemble import RandomForestClassifier\n",
    "from sklearn.preprocessing import OneHotEncoder\n",
    "from sklearn.metrics import f1_score,fbeta_score, average_precision_score, recall_score, accuracy_score, balanced_accuracy_score, confusion_matrix, roc_auc_score\n",
    "from sklearn.model_selection import LeavePOut, StratifiedKFold, KFold, cross_val_score, cross_val_predict, RandomizedSearchCV, GridSearchCV\n",
    "import xgboost as xgb"
   ]
  },
  {
   "cell_type": "code",
   "execution_count": 2,
   "id": "bd7217e7",
   "metadata": {},
   "outputs": [],
   "source": [
    "data = pd.read_csv(\"predictive_maintenance.csv\")"
   ]
  },
  {
   "cell_type": "code",
   "execution_count": 3,
   "id": "ef87c852",
   "metadata": {
    "scrolled": false
   },
   "outputs": [
    {
     "data": {
      "text/html": [
       "<div>\n",
       "<style scoped>\n",
       "    .dataframe tbody tr th:only-of-type {\n",
       "        vertical-align: middle;\n",
       "    }\n",
       "\n",
       "    .dataframe tbody tr th {\n",
       "        vertical-align: top;\n",
       "    }\n",
       "\n",
       "    .dataframe thead th {\n",
       "        text-align: right;\n",
       "    }\n",
       "</style>\n",
       "<table border=\"1\" class=\"dataframe\">\n",
       "  <thead>\n",
       "    <tr style=\"text-align: right;\">\n",
       "      <th></th>\n",
       "      <th>UDI</th>\n",
       "      <th>Product ID</th>\n",
       "      <th>Type</th>\n",
       "      <th>Air temperature [K]</th>\n",
       "      <th>Process temperature [K]</th>\n",
       "      <th>Rotational speed [rpm]</th>\n",
       "      <th>Torque [Nm]</th>\n",
       "      <th>Tool wear [min]</th>\n",
       "      <th>Target</th>\n",
       "      <th>Failure Type</th>\n",
       "    </tr>\n",
       "  </thead>\n",
       "  <tbody>\n",
       "    <tr>\n",
       "      <th>0</th>\n",
       "      <td>1</td>\n",
       "      <td>M14860</td>\n",
       "      <td>M</td>\n",
       "      <td>298.1</td>\n",
       "      <td>308.6</td>\n",
       "      <td>1551</td>\n",
       "      <td>42.8</td>\n",
       "      <td>0</td>\n",
       "      <td>0</td>\n",
       "      <td>No Failure</td>\n",
       "    </tr>\n",
       "    <tr>\n",
       "      <th>1</th>\n",
       "      <td>2</td>\n",
       "      <td>L47181</td>\n",
       "      <td>L</td>\n",
       "      <td>298.2</td>\n",
       "      <td>308.7</td>\n",
       "      <td>1408</td>\n",
       "      <td>46.3</td>\n",
       "      <td>3</td>\n",
       "      <td>0</td>\n",
       "      <td>No Failure</td>\n",
       "    </tr>\n",
       "    <tr>\n",
       "      <th>2</th>\n",
       "      <td>3</td>\n",
       "      <td>L47182</td>\n",
       "      <td>L</td>\n",
       "      <td>298.1</td>\n",
       "      <td>308.5</td>\n",
       "      <td>1498</td>\n",
       "      <td>49.4</td>\n",
       "      <td>5</td>\n",
       "      <td>0</td>\n",
       "      <td>No Failure</td>\n",
       "    </tr>\n",
       "    <tr>\n",
       "      <th>3</th>\n",
       "      <td>4</td>\n",
       "      <td>L47183</td>\n",
       "      <td>L</td>\n",
       "      <td>298.2</td>\n",
       "      <td>308.6</td>\n",
       "      <td>1433</td>\n",
       "      <td>39.5</td>\n",
       "      <td>7</td>\n",
       "      <td>0</td>\n",
       "      <td>No Failure</td>\n",
       "    </tr>\n",
       "    <tr>\n",
       "      <th>4</th>\n",
       "      <td>5</td>\n",
       "      <td>L47184</td>\n",
       "      <td>L</td>\n",
       "      <td>298.2</td>\n",
       "      <td>308.7</td>\n",
       "      <td>1408</td>\n",
       "      <td>40.0</td>\n",
       "      <td>9</td>\n",
       "      <td>0</td>\n",
       "      <td>No Failure</td>\n",
       "    </tr>\n",
       "  </tbody>\n",
       "</table>\n",
       "</div>"
      ],
      "text/plain": [
       "   UDI Product ID Type  Air temperature [K]  Process temperature [K]  \\\n",
       "0    1     M14860    M                298.1                    308.6   \n",
       "1    2     L47181    L                298.2                    308.7   \n",
       "2    3     L47182    L                298.1                    308.5   \n",
       "3    4     L47183    L                298.2                    308.6   \n",
       "4    5     L47184    L                298.2                    308.7   \n",
       "\n",
       "   Rotational speed [rpm]  Torque [Nm]  Tool wear [min]  Target Failure Type  \n",
       "0                    1551         42.8                0       0   No Failure  \n",
       "1                    1408         46.3                3       0   No Failure  \n",
       "2                    1498         49.4                5       0   No Failure  \n",
       "3                    1433         39.5                7       0   No Failure  \n",
       "4                    1408         40.0                9       0   No Failure  "
      ]
     },
     "execution_count": 3,
     "metadata": {},
     "output_type": "execute_result"
    }
   ],
   "source": [
    "data.head(5)"
   ]
  },
  {
   "cell_type": "markdown",
   "id": "0869e3f8",
   "metadata": {},
   "source": [
    "Product Types: Low Medium and High quality"
   ]
  },
  {
   "cell_type": "code",
   "execution_count": 38,
   "id": "e3b66714",
   "metadata": {
    "scrolled": true
   },
   "outputs": [
    {
     "data": {
      "text/plain": [
       "array(['M', 'L', 'H'], dtype=object)"
      ]
     },
     "execution_count": 38,
     "metadata": {},
     "output_type": "execute_result"
    }
   ],
   "source": [
    "data[\"Type\"].unique()"
   ]
  },
  {
   "cell_type": "markdown",
   "id": "b07398e2",
   "metadata": {},
   "source": [
    "### Drop No failures coded as Failures and Drop Random Failures coded as no failures"
   ]
  },
  {
   "cell_type": "code",
   "execution_count": 39,
   "id": "895383ce",
   "metadata": {},
   "outputs": [
    {
     "name": "stdout",
     "output_type": "stream",
     "text": [
      "(10000, 10)\n",
      "(10000, 10)\n"
     ]
    },
    {
     "data": {
      "text/plain": [
       "(10000, 10)"
      ]
     },
     "execution_count": 39,
     "metadata": {},
     "output_type": "execute_result"
    }
   ],
   "source": [
    "print(data.shape)\n",
    "# indexdelete = data[data['Failure Type'] == 'Random Failures'].index\n",
    "# data.drop(indexdelete, inplace = True)\n",
    "print(data.shape)\n",
    "# indexdelete = data[(data['Failure Type'] == 'No Failure') & (data['Target'] == 1)].index\n",
    "# data.drop(indexdelete, inplace = True)\n",
    "data.shape"
   ]
  },
  {
   "cell_type": "code",
   "execution_count": 4,
   "id": "649764d5",
   "metadata": {},
   "outputs": [],
   "source": [
    "y = data[[\"Target\", \"Failure Type\"]]\n",
    "y_target = y[\"Target\"]\n",
    "#y_target.head(5)"
   ]
  },
  {
   "cell_type": "markdown",
   "id": "bc2497b2",
   "metadata": {},
   "source": [
    "### Nominal \"tool type\" to one-hot encoding"
   ]
  },
  {
   "cell_type": "code",
   "execution_count": 5,
   "id": "b3b6b00d",
   "metadata": {},
   "outputs": [
    {
     "name": "stdout",
     "output_type": "stream",
     "text": [
      "<class 'pandas.core.frame.DataFrame'>\n",
      "RangeIndex: 10000 entries, 0 to 9999\n",
      "Data columns (total 8 columns):\n",
      " #   Column                   Non-Null Count  Dtype  \n",
      "---  ------                   --------------  -----  \n",
      " 0   Air temperature [K]      10000 non-null  float64\n",
      " 1   Process temperature [K]  10000 non-null  float64\n",
      " 2   Rotational speed [rpm]   10000 non-null  float64\n",
      " 3   Torque [Nm]              10000 non-null  float64\n",
      " 4   Tool wear [min]          10000 non-null  float64\n",
      " 5   H                        10000 non-null  float64\n",
      " 6   L                        10000 non-null  float64\n",
      " 7   M                        10000 non-null  float64\n",
      "dtypes: float64(8)\n",
      "memory usage: 625.1 KB\n"
     ]
    },
    {
     "data": {
      "text/html": [
       "<div>\n",
       "<style scoped>\n",
       "    .dataframe tbody tr th:only-of-type {\n",
       "        vertical-align: middle;\n",
       "    }\n",
       "\n",
       "    .dataframe tbody tr th {\n",
       "        vertical-align: top;\n",
       "    }\n",
       "\n",
       "    .dataframe thead th {\n",
       "        text-align: right;\n",
       "    }\n",
       "</style>\n",
       "<table border=\"1\" class=\"dataframe\">\n",
       "  <thead>\n",
       "    <tr style=\"text-align: right;\">\n",
       "      <th></th>\n",
       "      <th>Air Temp</th>\n",
       "      <th>Process Temp</th>\n",
       "      <th>Rotation speed</th>\n",
       "      <th>Torque</th>\n",
       "      <th>Tool wear</th>\n",
       "      <th>H</th>\n",
       "      <th>L</th>\n",
       "      <th>M</th>\n",
       "    </tr>\n",
       "  </thead>\n",
       "  <tbody>\n",
       "    <tr>\n",
       "      <th>count</th>\n",
       "      <td>10000.000000</td>\n",
       "      <td>10000.000000</td>\n",
       "      <td>10000.000000</td>\n",
       "      <td>10000.000000</td>\n",
       "      <td>10000.000000</td>\n",
       "      <td>10000.000000</td>\n",
       "      <td>10000.000000</td>\n",
       "      <td>10000.000000</td>\n",
       "    </tr>\n",
       "    <tr>\n",
       "      <th>mean</th>\n",
       "      <td>0.511405</td>\n",
       "      <td>0.531551</td>\n",
       "      <td>0.215818</td>\n",
       "      <td>0.497073</td>\n",
       "      <td>0.426684</td>\n",
       "      <td>0.100300</td>\n",
       "      <td>0.600000</td>\n",
       "      <td>0.299700</td>\n",
       "    </tr>\n",
       "    <tr>\n",
       "      <th>std</th>\n",
       "      <td>0.217419</td>\n",
       "      <td>0.183177</td>\n",
       "      <td>0.104356</td>\n",
       "      <td>0.136936</td>\n",
       "      <td>0.251597</td>\n",
       "      <td>0.300415</td>\n",
       "      <td>0.489922</td>\n",
       "      <td>0.458149</td>\n",
       "    </tr>\n",
       "    <tr>\n",
       "      <th>min</th>\n",
       "      <td>0.000000</td>\n",
       "      <td>0.000000</td>\n",
       "      <td>0.000000</td>\n",
       "      <td>0.000000</td>\n",
       "      <td>0.000000</td>\n",
       "      <td>0.000000</td>\n",
       "      <td>0.000000</td>\n",
       "      <td>0.000000</td>\n",
       "    </tr>\n",
       "    <tr>\n",
       "      <th>25%</th>\n",
       "      <td>0.326087</td>\n",
       "      <td>0.382716</td>\n",
       "      <td>0.148428</td>\n",
       "      <td>0.403846</td>\n",
       "      <td>0.209486</td>\n",
       "      <td>0.000000</td>\n",
       "      <td>0.000000</td>\n",
       "      <td>0.000000</td>\n",
       "    </tr>\n",
       "    <tr>\n",
       "      <th>50%</th>\n",
       "      <td>0.521739</td>\n",
       "      <td>0.543210</td>\n",
       "      <td>0.194994</td>\n",
       "      <td>0.498626</td>\n",
       "      <td>0.426877</td>\n",
       "      <td>0.000000</td>\n",
       "      <td>1.000000</td>\n",
       "      <td>0.000000</td>\n",
       "    </tr>\n",
       "    <tr>\n",
       "      <th>75%</th>\n",
       "      <td>0.673913</td>\n",
       "      <td>0.666667</td>\n",
       "      <td>0.258440</td>\n",
       "      <td>0.590659</td>\n",
       "      <td>0.640316</td>\n",
       "      <td>0.000000</td>\n",
       "      <td>1.000000</td>\n",
       "      <td>1.000000</td>\n",
       "    </tr>\n",
       "    <tr>\n",
       "      <th>max</th>\n",
       "      <td>1.000000</td>\n",
       "      <td>1.000000</td>\n",
       "      <td>1.000000</td>\n",
       "      <td>1.000000</td>\n",
       "      <td>1.000000</td>\n",
       "      <td>1.000000</td>\n",
       "      <td>1.000000</td>\n",
       "      <td>1.000000</td>\n",
       "    </tr>\n",
       "  </tbody>\n",
       "</table>\n",
       "</div>"
      ],
      "text/plain": [
       "           Air Temp  Process Temp  Rotation speed        Torque     Tool wear  \\\n",
       "count  10000.000000  10000.000000    10000.000000  10000.000000  10000.000000   \n",
       "mean       0.511405      0.531551        0.215818      0.497073      0.426684   \n",
       "std        0.217419      0.183177        0.104356      0.136936      0.251597   \n",
       "min        0.000000      0.000000        0.000000      0.000000      0.000000   \n",
       "25%        0.326087      0.382716        0.148428      0.403846      0.209486   \n",
       "50%        0.521739      0.543210        0.194994      0.498626      0.426877   \n",
       "75%        0.673913      0.666667        0.258440      0.590659      0.640316   \n",
       "max        1.000000      1.000000        1.000000      1.000000      1.000000   \n",
       "\n",
       "                  H             L             M  \n",
       "count  10000.000000  10000.000000  10000.000000  \n",
       "mean       0.100300      0.600000      0.299700  \n",
       "std        0.300415      0.489922      0.458149  \n",
       "min        0.000000      0.000000      0.000000  \n",
       "25%        0.000000      0.000000      0.000000  \n",
       "50%        0.000000      1.000000      0.000000  \n",
       "75%        0.000000      1.000000      1.000000  \n",
       "max        1.000000      1.000000      1.000000  "
      ]
     },
     "execution_count": 5,
     "metadata": {},
     "output_type": "execute_result"
    }
   ],
   "source": [
    "#Drop unecessary columns\n",
    "X = data.drop(['UDI',\"Target\", \"Failure Type\", \"Product ID\", \"Type\"], axis=1)\n",
    "#data.loc[:, ~data.columns.isin([\"Target\", \"Failure Type\", \"Product ID\", \"Type\"])]\n",
    "\n",
    "#Convert Type to OHE columns\n",
    "type = data[\"Type\"]\n",
    "onehottype= pd.get_dummies(type)\n",
    "#print(onehottype.head(5))\n",
    "X = pd.concat([X,onehottype], axis=1)\n",
    "#X.head(5)\n",
    "\n",
    "\n",
    "# #Scale the numerical data\n",
    "numerical_data = X[X.select_dtypes(include='number').columns].astype(float)\n",
    "numerical_data.info()\n",
    "\n",
    "mms = MinMaxScaler()\n",
    "\n",
    "# fitting the minmax processing and accomodating it to the dataframe\n",
    "X = pd.DataFrame(mms.fit_transform(numerical_data))\n",
    "X.set_axis(['Air Temp', 'Process Temp', 'Rotation speed', 'Torque','Tool wear','H','L','M'], axis=1, inplace=True)\n",
    "X.describe()\n",
    "#X.head()"
   ]
  },
  {
   "cell_type": "code",
   "execution_count": 6,
   "id": "887209b5",
   "metadata": {},
   "outputs": [
    {
     "name": "stdout",
     "output_type": "stream",
     "text": [
      "(2000, 8) (2000,)\n"
     ]
    }
   ],
   "source": [
    "X_train, X_test, y_train, y_test = train_test_split(X,y_target,train_size = 0.8, random_state = 69)\n",
    "print(X_test.shape, y_test.shape)"
   ]
  },
  {
   "cell_type": "markdown",
   "id": "75ece971",
   "metadata": {},
   "source": [
    "## First Try KNN Model - Not Great! ##"
   ]
  },
  {
   "cell_type": "code",
   "execution_count": 43,
   "id": "958a4846",
   "metadata": {},
   "outputs": [
    {
     "name": "stdout",
     "output_type": "stream",
     "text": [
      "[[1940    4]\n",
      " [  45   11]]\n",
      "f1 =  0.30985915492957744 Precision =  0.16654761904761903 0.5971854791299236\n",
      "ROC AUC =  0.5971854791299236\n"
     ]
    },
    {
     "name": "stderr",
     "output_type": "stream",
     "text": [
      "C:\\Users\\alexhu\\Anaconda3\\lib\\site-packages\\sklearn\\neighbors\\_classification.py:228: FutureWarning: Unlike other reduction functions (e.g. `skew`, `kurtosis`), the default behavior of `mode` typically preserves the axis it acts along. In SciPy 1.11.0, this behavior will change: the default value of `keepdims` will become False, the `axis` over which the statistic is taken will be eliminated, and the value None will no longer be accepted. Set `keepdims` to True or False to avoid this warning.\n",
      "  mode, _ = stats.mode(_y[neigh_ind, k], axis=1)\n"
     ]
    },
    {
     "data": {
      "text/plain": [
       "(11, 45, 4)"
      ]
     },
     "execution_count": 43,
     "metadata": {},
     "output_type": "execute_result"
    }
   ],
   "source": [
    "model = KNeighborsClassifier(2)\n",
    "model.fit(X_train, y_train)\n",
    "y_pred = model.predict(X_test)\n",
    "\n",
    "print(confusion_matrix(y_test,y_pred))\n",
    "tn, fp, fn, tp = confusion_matrix(y_test,y_pred).ravel()\n",
    "\n",
    "print('f1 = ',f1_score(y_test,y_pred), \"Precision = \", average_precision_score(y_test,y_pred), balanced_accuracy_score(y_test,y_pred))\n",
    "print('ROC AUC = ', roc_auc_score(y_test,y_pred))\n",
    "tp,fn,fp\n"
   ]
  },
  {
   "cell_type": "markdown",
   "id": "23aeb14a",
   "metadata": {},
   "source": [
    "# Random Forest - Works better #"
   ]
  },
  {
   "cell_type": "code",
   "execution_count": 44,
   "id": "c5f642bc",
   "metadata": {},
   "outputs": [
    {
     "name": "stdout",
     "output_type": "stream",
     "text": [
      "[[1939    5]\n",
      " [  25   31]]\n",
      "weighted f1 =  0.6739130434782609 , Precision =  0.489186507936508 , Balanced Accuracy (ROC AUC) =  0.7754997060552616\n",
      "ROC AUC =  0.7754997060552616\n"
     ]
    },
    {
     "data": {
      "text/plain": [
       "(31, 25, 5)"
      ]
     },
     "execution_count": 44,
     "metadata": {},
     "output_type": "execute_result"
    }
   ],
   "source": [
    "model = RandomForestClassifier(n_estimators=25,random_state=69)\n",
    "model.fit(X_train, y_train)\n",
    "y_pred = model.predict(X_test)\n",
    "\n",
    "print(confusion_matrix(y_test,y_pred))\n",
    "tn, fp, fn, tp = confusion_matrix(y_test,y_pred).ravel()\n",
    "print('weighted f1 = ', fbeta_score(y_test,y_pred,beta=1), \", Precision = \", average_precision_score(y_test,y_pred), \", Balanced Accuracy (ROC AUC) = \", balanced_accuracy_score(y_test,y_pred))\n",
    "print('ROC AUC = ', roc_auc_score(y_test,y_pred))\n",
    "tp,fn,fp"
   ]
  },
  {
   "cell_type": "markdown",
   "id": "5e7d0d1b",
   "metadata": {},
   "source": [
    "Cross Validating RF"
   ]
  },
  {
   "cell_type": "code",
   "execution_count": 45,
   "id": "c00b36d5",
   "metadata": {},
   "outputs": [
    {
     "name": "stdout",
     "output_type": "stream",
     "text": [
      "Cross Validation Scores:  [0.49484536 0.41584158 0.09700722 0.36363636 0.61386139]\n",
      "Average CV Score:  0.39703838374006883\n",
      "Number of CV Scores used in Average:  5\n"
     ]
    }
   ],
   "source": [
    "kf = StratifiedKFold(5)\n",
    "scores = cross_val_score(model,X,y_target,scoring=\"f1\", cv = kf)\n",
    "print(\"Cross Validation Scores: \", scores)\n",
    "print(\"Average CV Score: \", scores.mean())\n",
    "print(\"Number of CV Scores used in Average: \", len(scores))"
   ]
  },
  {
   "cell_type": "markdown",
   "id": "92a224fb",
   "metadata": {},
   "source": [
    "# Try XGBoost\n"
   ]
  },
  {
   "cell_type": "code",
   "execution_count": 46,
   "id": "7a0029b1",
   "metadata": {},
   "outputs": [
    {
     "name": "stdout",
     "output_type": "stream",
     "text": [
      "[[1918   26]\n",
      " [  16   40]]\n",
      "weighted f1 =  0.6557377049180327 , Precision =  0.4409004329004329 , Balanced Accuracy (ROC AUC) =  0.8504556143445032\n",
      "ROC AUC =  0.8504556143445033\n",
      "40 16 26\n",
      "Cross Validation Scores:  [0.60465116 0.58992806 0.11665099 0.54545455 0.7768595 ]\n",
      "Average CV Score:  0.5267088515403785\n",
      "Number of CV Scores used in Average:  5\n"
     ]
    }
   ],
   "source": [
    "xgb_model = xgb.XGBRFClassifier(n_estimators = 100, max_depth = 9, min_child_weight = 1, eta = 1, objective = \"binary:hinge\", eval_metric = 'error', random_state=69)\n",
    "xgb_model.fit(X_train, y_train)\n",
    "y_pred = xgb_model.predict(X_test)\n",
    "\n",
    "print(confusion_matrix(y_test,y_pred))\n",
    "tn, fp, fn, tp = confusion_matrix(y_test,y_pred).ravel()\n",
    "print('weighted f1 = ', fbeta_score(y_test,y_pred,beta=1), \", Precision = \", average_precision_score(y_test,y_pred), \", Balanced Accuracy (ROC AUC) = \", balanced_accuracy_score(y_test,y_pred))\n",
    "print('ROC AUC = ', roc_auc_score(y_test,y_pred))\n",
    "print(tp,fn,fp)\n",
    "kf = StratifiedKFold(n_splits = 5)\n",
    "scores = cross_val_score(xgb_model,X,y_target,scoring=\"f1\", cv = kf)\n",
    "print(\"Cross Validation Scores: \", scores)\n",
    "print(\"Average CV Score: \", scores.mean())\n",
    "print(\"Number of CV Scores used in Average: \", len(scores))"
   ]
  },
  {
   "cell_type": "markdown",
   "id": "84a9d6c4",
   "metadata": {},
   "source": [
    "# Ultimately XGBoost worked best - pretty decent\n",
    "\n",
    "And with Stratified Cross Validation XGBoost comes out on top with a much better Avg F1\n",
    "\n",
    "As a comparison here is a simple baseline algo that just guesses that there are no failures"
   ]
  },
  {
   "cell_type": "code",
   "execution_count": 28,
   "id": "ea3bb9e7",
   "metadata": {},
   "outputs": [
    {
     "name": "stdout",
     "output_type": "stream",
     "text": [
      "[[1944    0]\n",
      " [  56    0]]\n",
      "weighted f1 =  0.0 , Precision =  0.028 , Actual Accuracy =  0.972\n",
      "ROC AUC =  0.5\n"
     ]
    },
    {
     "data": {
      "text/plain": [
       "(0, 56, 0)"
      ]
     },
     "execution_count": 28,
     "metadata": {},
     "output_type": "execute_result"
    }
   ],
   "source": [
    "y_baseline = np.zeros(len(y_test))\n",
    "\n",
    "print(confusion_matrix(y_test,y_baseline))\n",
    "tn, fp, fn, tp = confusion_matrix(y_test,y_baseline).ravel()\n",
    "print('weighted f1 = ', fbeta_score(y_test,y_baseline,beta=1), \", Precision = \", average_precision_score(y_test,y_baseline), \", Actual Accuracy = \", accuracy_score(y_test,y_baseline))\n",
    "print('ROC AUC = ', roc_auc_score(y_test,y_baseline))\n",
    "tp,fn,fp"
   ]
  },
  {
   "cell_type": "markdown",
   "id": "c3de431b",
   "metadata": {},
   "source": [
    "# SVM absolutely fails\n",
    "\n",
    "I need to tweak the settings"
   ]
  },
  {
   "cell_type": "code",
   "execution_count": 48,
   "id": "80e1a857",
   "metadata": {},
   "outputs": [],
   "source": [
    "# model = SVC()\n",
    "# model.fit(X_train, y_train)\n",
    "# print('training accuracy (kinda useless metric)= ', model.score(X_train, y_train))\n",
    "# y_pred = model.predict(X_test)\n",
    "\n",
    "\n",
    "# print(confusion_matrix(y_test,y_pred))\n",
    "# tn, fp, fn, tp = confusion_matrix(y_test,y_pred).ravel()\n",
    "# print('weighted f1 = ', fbeta_score(y_test,y_pred,beta=1), \", Precision = \", average_precision_score(y_test,y_pred), \", Balanced Accuracy (ROC AUC) = \", balanced_accuracy_score(y_test,y_pred))\n",
    "# print('ROC AUC = ', roc_auc_score(y_test,y_pred))\n",
    "# tp,fn,fp"
   ]
  },
  {
   "cell_type": "markdown",
   "id": "4ed81908",
   "metadata": {},
   "source": [
    "# Reduced dimensions\n",
    "\n",
    "Already dropped ID, No Need to drop anymore features"
   ]
  },
  {
   "cell_type": "code",
   "execution_count": 31,
   "id": "87cb0055",
   "metadata": {},
   "outputs": [
    {
     "name": "stdout",
     "output_type": "stream",
     "text": [
      "   Air Temp  Process Temp  Rotation speed    Torque  Tool wear    H    L    M\n",
      "0  0.304348      0.358025        0.222934  0.535714   0.000000  0.0  0.0  1.0\n",
      "1  0.315217      0.370370        0.139697  0.583791   0.011858  0.0  1.0  0.0\n",
      "2  0.304348      0.345679        0.192084  0.626374   0.019763  0.0  1.0  0.0\n",
      "3  0.315217      0.358025        0.154249  0.490385   0.027668  0.0  1.0  0.0\n",
      "4  0.315217      0.370370        0.139697  0.497253   0.035573  0.0  1.0  0.0\n",
      "   Air Temp  Process Temp  Rotation speed    Torque  Tool wear    H    L    M\n",
      "0  0.304348      0.358025        0.222934  0.535714   0.000000  0.0  0.0  1.0\n",
      "1  0.315217      0.370370        0.139697  0.583791   0.011858  0.0  1.0  0.0\n",
      "2  0.304348      0.345679        0.192084  0.626374   0.019763  0.0  1.0  0.0\n",
      "3  0.315217      0.358025        0.154249  0.490385   0.027668  0.0  1.0  0.0\n",
      "4  0.315217      0.370370        0.139697  0.497253   0.035573  0.0  1.0  0.0\n",
      "(2000, 8) (2000,)\n"
     ]
    }
   ],
   "source": [
    "print(X.head())\n",
    "X_reduced = X #.drop(['Process Temp'], axis=1) #, \"Air Temp\", 'Process Temp'\n",
    "print(X_reduced.head())\n",
    "X_trainr, X_testr, y_trainr, y_testr = train_test_split(X_reduced,y_target,train_size = 0.8, random_state = 69)\n",
    "print(X_testr.shape, y_testr.shape)"
   ]
  },
  {
   "cell_type": "code",
   "execution_count": 50,
   "id": "2716533f",
   "metadata": {},
   "outputs": [],
   "source": [
    "# model = RandomForestClassifier(n_estimators=100,random_state=69)\n",
    "# model.fit(X_train, y_train)\n",
    "# y_pred = model.predict(X_test)\n",
    "\n",
    "# print(confusion_matrix(y_test,y_pred))\n",
    "# tn, fp, fn, tp = confusion_matrix(y_test,y_pred).ravel()\n",
    "# print('weighted f1 = ', fbeta_score(y_test,y_pred,beta=2), \", Precision = \", average_precision_score(y_test,y_pred), \", Balanced Accuracy (ROC AUC) = \", balanced_accuracy_score(y_test,y_pred))\n",
    "# print('ROC AUC = ', roc_auc_score(y_test,y_pred))\n",
    "# tp,fn,fp\n",
    "\n",
    "# kf = StratifiedKFold(5)\n",
    "# scores = cross_val_score(model,X_reduced,y_target,scoring=\"f1\", cv = kf)\n",
    "# print(\"Cross Validation Scores: \", scores)\n",
    "# print(\"Average CV Score: \", scores.mean())"
   ]
  },
  {
   "cell_type": "code",
   "execution_count": 25,
   "id": "0a90f589",
   "metadata": {},
   "outputs": [
    {
     "name": "stdout",
     "output_type": "stream",
     "text": [
      "Fitting 5 folds for each of 96 candidates, totalling 480 fits\n"
     ]
    },
    {
     "data": {
      "text/plain": [
       "GridSearchCV(cv=StratifiedKFold(n_splits=5, random_state=None, shuffle=True),\n",
       "             estimator=XGBRFClassifier(base_score=None, booster=None,\n",
       "                                       callbacks=None, colsample_bylevel=None,\n",
       "                                       colsample_bytree=None,\n",
       "                                       early_stopping_rounds=None,\n",
       "                                       enable_categorical=False,\n",
       "                                       eval_metric=None, gamma=None,\n",
       "                                       gpu_id=None, grow_policy=None,\n",
       "                                       importance_type=None,\n",
       "                                       interaction_constraints=None,\n",
       "                                       m...\n",
       "                                       max_leaves=None, min_child_weight=None,\n",
       "                                       missing=nan, monotone_constraints=None,\n",
       "                                       n_estimators=100, n_jobs=None, nthread=4,\n",
       "                                       num_parallel_tree=None,\n",
       "                                       objective='binary:hinge', predictor=None,\n",
       "                                       random_state=None, reg_alpha=None,\n",
       "                                       sampling_method=None, ...),\n",
       "             n_jobs=5,\n",
       "             param_grid={'max_depth': range(2, 10),\n",
       "                         'min_child_weight': [1, 5, 10],\n",
       "                         'n_estimators': range(20, 100, 20)},\n",
       "             scoring='roc_auc', verbose=2)"
      ]
     },
     "execution_count": 25,
     "metadata": {},
     "output_type": "execute_result"
    }
   ],
   "source": [
    "xgb_model = xgb.XGBRFClassifier(\n",
    "    objective= 'binary:hinge',\n",
    "    nthread=4,\n",
    "    seed=69\n",
    ")\n",
    "\n",
    "parameters = {\n",
    "    'max_depth': range (2, 10, 1),\n",
    "    'n_estimators': range(20, 100, 20),\n",
    "    #'learning_rate': [0.1, 0.01, 0.05],\n",
    "    'min_child_weight' : [1,5,10]\n",
    "}\n",
    "\n",
    "\n",
    "clf = GridSearchCV(xgb_model, parameters, n_jobs=5, \n",
    "                   cv=StratifiedKFold(n_splits=5, shuffle=True), \n",
    "                   scoring='roc_auc',\n",
    "                   verbose=2, refit=True)\n",
    "\n",
    "clf.fit(X_trainr, y_trainr)\n"
   ]
  },
  {
   "cell_type": "code",
   "execution_count": 26,
   "id": "507bfdb5",
   "metadata": {},
   "outputs": [
    {
     "name": "stdout",
     "output_type": "stream",
     "text": [
      "{'max_depth': 7, 'min_child_weight': 10, 'n_estimators': 60}\n"
     ]
    }
   ],
   "source": [
    "#Print the params of the winner\n",
    "for key, value in enumerate(clf.cv_results_['rank_test_score']):\n",
    "    if 1 == value:\n",
    "        print(clf.cv_results_['params'][key])"
   ]
  },
  {
   "cell_type": "code",
   "execution_count": 30,
   "id": "09d42698",
   "metadata": {},
   "outputs": [
    {
     "name": "stdout",
     "output_type": "stream",
     "text": [
      "[[1879   65]\n",
      " [  17   39]]\n",
      "weighted f1 =  0.5945121951219513 , Precision =  0.2696607142857143 , Balanced Accuracy (ROC AUC) =  0.831496178718401\n",
      "ROC AUC =  0.8314961787184009\n",
      "39 17 65 82\n",
      "Cross Validation Scores:  [0.56969697 0.51648352 0.61202186 0.60540541 0.53409091]\n",
      "Average CV Score:  0.5675397317200596\n"
     ]
    }
   ],
   "source": [
    "xgb_model = xgb.XGBRFClassifier(n_estimators = 60, max_depth = 7, min_child_weight = 60, objective = \"binary:hinge\", random_state=69)\n",
    "xgb_model.fit(X_trainr, y_trainr)\n",
    "y_pred = xgb_model.predict(X_testr)\n",
    "\n",
    "print(confusion_matrix(y_test,y_pred))\n",
    "tn, fp, fn, tp = confusion_matrix(y_test,y_pred).ravel()\n",
    "print('weighted f1 = ', fbeta_score(y_test,y_pred,beta=2), \", Precision = \", average_precision_score(y_test,y_pred), \", Balanced Accuracy (ROC AUC) = \", balanced_accuracy_score(y_test,y_pred))\n",
    "print('ROC AUC = ', roc_auc_score(y_test,y_pred))\n",
    "print (tp,fn,fp, fn+fp)\n",
    "\n",
    "kf = StratifiedKFold(n_splits=5, shuffle=True)\n",
    "scores = cross_val_score(xgb_model,X_reduced,y_target,scoring=\"f1\", cv = kf)\n",
    "print(\"Cross Validation Scores: \", scores)\n",
    "print(\"Average CV Score: \", scores.mean())"
   ]
  },
  {
   "cell_type": "code",
   "execution_count": 52,
   "id": "2484ec95",
   "metadata": {
    "scrolled": false
   },
   "outputs": [
    {
     "data": {
      "text/plain": [
       "<sklearn.metrics._plot.roc_curve.RocCurveDisplay at 0x217634078b0>"
      ]
     },
     "execution_count": 52,
     "metadata": {},
     "output_type": "execute_result"
    },
    {
     "data": {
      "image/png": "[encoded data removed]",
      "text/plain": [
       "<Figure size 640x480 with 1 Axes>"
      ]
     },
     "metadata": {},
     "output_type": "display_data"
    }
   ],
   "source": [
    "from sklearn.metrics import RocCurveDisplay\n",
    "RocCurveDisplay.from_predictions(y_test, y_pred)"
   ]
  },
  {
   "cell_type": "markdown",
   "id": "1e0116af",
   "metadata": {},
   "source": [
    "# Original Features Importance\n",
    "\n",
    "Note H, L and M are one hot encoded from tool type"
   ]
  },
  {
   "cell_type": "code",
   "execution_count": 53,
   "id": "09cbc098",
   "metadata": {
    "scrolled": false
   },
   "outputs": [
    {
     "name": "stdout",
     "output_type": "stream",
     "text": [
      "Feature: Air Temp, Score: 0.12887\n",
      "Feature: Process Temp, Score: 0.11098\n",
      "Feature: Rotation speed, Score: 0.24796\n",
      "Feature: Torque, Score: 0.33744\n",
      "Feature: Tool wear, Score: 0.15375\n",
      "Feature: H, Score: 0.00521\n",
      "Feature: L, Score: 0.00877\n",
      "Feature: M, Score: 0.00702\n"
     ]
    },
    {
     "data": {
      "image/png": "[encoded data removed]",
      "text/plain": [
       "<Figure size 640x480 with 1 Axes>"
      ]
     },
     "metadata": {},
     "output_type": "display_data"
    }
   ],
   "source": [
    "from matplotlib import pyplot\n",
    "headerlist = X.columns.tolist()\n",
    "# get importance\n",
    "importance = model.feature_importances_\n",
    "# summarize feature importance\n",
    "for i,v in enumerate(importance):\n",
    "\tprint('Feature: %s, Score: %.5f' % (headerlist[i],v))\n",
    "# plot feature importance\n",
    "pyplot.bar([headerlist[x] for x in range(len(importance))], importance)\n",
    "pyplot.xticks(rotation=-45)\n",
    "pyplot.show()"
   ]
  },
  {
   "cell_type": "markdown",
   "id": "744e954d",
   "metadata": {},
   "source": [
    "# Reduced dimensions\n",
    "\n",
    "Lets see the feature importance here"
   ]
  },
  {
   "cell_type": "code",
   "execution_count": 54,
   "id": "30f403d4",
   "metadata": {
    "scrolled": false
   },
   "outputs": [
    {
     "name": "stdout",
     "output_type": "stream",
     "text": [
      "Feature: Air Temp, Score: 0.14827\n",
      "Feature: Rotation speed, Score: 0.13336\n",
      "Feature: Torque, Score: 0.29346\n",
      "Feature: Tool wear, Score: 0.15868\n",
      "Feature: H, Score: 0.06324\n",
      "Feature: L, Score: 0.12880\n",
      "Feature: M, Score: 0.07419\n"
     ]
    },
    {
     "data": {
      "image/png": "[encoded data removed]",
      "text/plain": [
       "<Figure size 640x480 with 1 Axes>"
      ]
     },
     "metadata": {},
     "output_type": "display_data"
    }
   ],
   "source": [
    "from matplotlib import pyplot\n",
    "headerlist = X_train.columns.tolist()\n",
    "# get importance\n",
    "importance = xgb_model.feature_importances_\n",
    "# summarize feature importance\n",
    "for i,v in enumerate(importance):\n",
    "\tprint('Feature: %s, Score: %.5f' % (headerlist[i],v))\n",
    "# plot feature importance\n",
    "pyplot.bar([headerlist[x] for x in range(len(importance))], importance)\n",
    "pyplot.xticks(rotation=-45)\n",
    "pyplot.show()\n"
   ]
  }
 ],
 "metadata": {
  "kernelspec": {
   "display_name": "Python 3 (ipykernel)",
   "language": "python",
   "name": "python3"
  },
  "language_info": {
   "codemirror_mode": {
    "name": "ipython",
    "version": 3
   },
   "file_extension": ".py",
   "mimetype": "text/x-python",
   "name": "python",
   "nbconvert_exporter": "python",
   "pygments_lexer": "ipython3",
   "version": "3.9.13"
  },
  "vscode": {
   "interpreter": {
    "hash": "08b75a6dec58fbef2e235e793c13e2b91a047b1f532b9d96ea538a8f52546fa0"
   }
  }
 },
 "nbformat": 4,
 "nbformat_minor": 5
}
